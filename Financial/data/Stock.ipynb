
# Financial data.
import yfinance as yf

# Dates and times.
import datetime as dt
